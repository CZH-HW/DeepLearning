{
 "cells": [
  {
   "cell_type": "code",
   "execution_count": 2,
   "metadata": {},
   "outputs": [],
   "source": [
    "# 线性回归拟合二维数据，二维数据的基本关系约为 y = 2x \n",
    "# 主要由四个步骤：准备数据——>搭建模型——>迭代训练——>使用模型"
   ]
  },
  {
   "cell_type": "code",
   "execution_count": 12,
   "metadata": {},
   "outputs": [
    {
     "data": {
      "image/png": "[encoded data removed]",
      "text/plain": [
       "<Figure size 432x288 with 1 Axes>"
      ]
     },
     "metadata": {
      "needs_background": "light"
     },
     "output_type": "display_data"
    }
   ],
   "source": [
    "# 生成含噪声的数据\n",
    "import tensorflow as tf\n",
    "import numpy as np\n",
    "import matplotlib.pyplot as plt\n",
    "\n",
    "train_X = np.linspace(-1, 1, 100)\n",
    "train_Y = 2 * train_X + np.random.randn(*train_X.shape)   # 加入噪声\n",
    "\n",
    "# 显示模拟数据\n",
    "plt.plot(train_X, train_Y, 'ro', label='Original data')\n",
    "plt.legend()\n",
    "plt.show()"
   ]
  },
  {
   "cell_type": "code",
   "execution_count": 13,
   "metadata": {},
   "outputs": [],
   "source": [
    "# 搭建模型：正向\n",
    "# 模型参数：随机初始化权重和偏置\n",
    "W = tf.Variable(np.random.randn(), name=\"weight\")   \n",
    "b = tf.Variable(np.random.randn(), name=\"bias\")\n",
    "\n",
    "# 线性回归函数\n",
    "def linear_regression(x):\n",
    "    return W*x + b\n",
    "\n",
    "\n",
    "# 搭建模型：反向\n",
    "# 损失函数\n",
    "def mean_square(y_pred, y_true):\n",
    "    return tf.reduce_mean(tf.square(y_pred-y_true))\n",
    "\n",
    "# 优化器采用随机梯度下降(SGD)\n",
    "learning_rate = 0.01  # 学习率\n",
    "optimizer = tf.optimizers.SGD(learning_rate)"
   ]
  },
  {
   "cell_type": "code",
   "execution_count": 14,
   "metadata": {},
   "outputs": [
    {
     "name": "stdout",
     "output_type": "stream",
     "text": [
      "step: 2, loss: 3.292723, W: -0.287552, b: -0.707569\n",
      "step: 4, loss: 3.202244, W: -0.257186, b: -0.677576\n",
      "step: 6, loss: 3.116459, W: -0.227233, b: -0.648771\n",
      "step: 8, loss: 3.035067, W: -0.197685, b: -0.621107\n",
      "step: 10, loss: 2.957788, W: -0.168538, b: -0.594538\n",
      "step: 12, loss: 2.884361, W: -0.139786, b: -0.569021\n",
      "step: 14, loss: 2.814546, W: -0.111424, b: -0.544515\n",
      "step: 16, loss: 2.748119, W: -0.083446, b: -0.520979\n",
      "step: 18, loss: 2.684871, W: -0.055848, b: -0.498375\n",
      "step: 20, loss: 2.624608, W: -0.028623, b: -0.476667\n",
      "step: 22, loss: 2.567151, W: -0.001768, b: -0.455818\n",
      "step: 24, loss: 2.512333, W: 0.024723, b: -0.435794\n",
      "step: 26, loss: 2.459997, W: 0.050855, b: -0.416564\n",
      "step: 28, loss: 2.409999, W: 0.076633, b: -0.398095\n",
      "step: 30, loss: 2.362203, W: 0.102061, b: -0.380357\n",
      "step: 32, loss: 2.316484, W: 0.127145, b: -0.363322\n",
      "step: 34, loss: 2.272725, W: 0.151888, b: -0.346962\n",
      "step: 36, loss: 2.230815, W: 0.176297, b: -0.331249\n",
      "step: 38, loss: 2.190655, W: 0.200374, b: -0.316159\n",
      "step: 40, loss: 2.152147, W: 0.224125, b: -0.301666\n",
      "step: 42, loss: 2.115203, W: 0.247554, b: -0.287747\n",
      "step: 44, loss: 2.079741, W: 0.270665, b: -0.274379\n",
      "step: 46, loss: 2.045682, W: 0.293463, b: -0.261541\n",
      "step: 48, loss: 2.012954, W: 0.315952, b: -0.249211\n",
      "step: 50, loss: 1.981489, W: 0.338136, b: -0.237369\n",
      "step: 52, loss: 1.951224, W: 0.360019, b: -0.225996\n",
      "step: 54, loss: 1.922097, W: 0.381606, b: -0.215074\n",
      "step: 56, loss: 1.894055, W: 0.402900, b: -0.204584\n",
      "step: 58, loss: 1.867044, W: 0.423905, b: -0.194509\n",
      "step: 60, loss: 1.841015, W: 0.444625, b: -0.184834\n",
      "step: 62, loss: 1.815922, W: 0.465065, b: -0.175541\n",
      "step: 64, loss: 1.791722, W: 0.485228, b: -0.166617\n",
      "step: 66, loss: 1.768373, W: 0.505117, b: -0.158046\n",
      "step: 68, loss: 1.745838, W: 0.524736, b: -0.149814\n",
      "step: 70, loss: 1.724079, W: 0.544090, b: -0.141909\n",
      "step: 72, loss: 1.703063, W: 0.563181, b: -0.134316\n",
      "step: 74, loss: 1.682758, W: 0.582014, b: -0.127024\n",
      "step: 76, loss: 1.663133, W: 0.600591, b: -0.120021\n",
      "step: 78, loss: 1.644159, W: 0.618916, b: -0.113295\n",
      "step: 80, loss: 1.625810, W: 0.636993, b: -0.106836\n",
      "step: 82, loss: 1.608060, W: 0.654825, b: -0.100632\n",
      "step: 84, loss: 1.590885, W: 0.672415, b: -0.094674\n",
      "step: 86, loss: 1.574261, W: 0.689767, b: -0.088952\n",
      "step: 88, loss: 1.558167, W: 0.706883, b: -0.083457\n",
      "step: 90, loss: 1.542582, W: 0.723768, b: -0.078179\n",
      "step: 92, loss: 1.527487, W: 0.740423, b: -0.073110\n",
      "step: 94, loss: 1.512863, W: 0.756853, b: -0.068242\n",
      "step: 96, loss: 1.498692, W: 0.773060, b: -0.063566\n",
      "step: 98, loss: 1.484957, W: 0.789047, b: -0.059076\n",
      "step: 100, loss: 1.471644, W: 0.804817, b: -0.054764\n"
     ]
    }
   ],
   "source": [
    "# 计算梯度，更新参数\n",
    "def run_optimization():   \n",
    "    # tf.GradientTape()梯度带，可以查看每一次epoch的参数值\n",
    "    with tf.GradientTape() as tape:\n",
    "        pred = linear_regression(train_X)\n",
    "        loss = mean_square(pred, train_Y)\n",
    "    # 计算梯度\n",
    "    gradients = tape.gradient(loss, [W, b])\n",
    "    # 更新W，b\n",
    "    optimizer.apply_gradients(zip(gradients, [W, b]))\n",
    "\n",
    "    \n",
    "# 开始训练\n",
    "training_steps = 100  # 训练次数\n",
    "display_step = 2  # 训练2次输出一次\n",
    "\n",
    "for step in range(1, training_steps+1):\n",
    "    run_optimization()\n",
    "    if step % display_step == 0:\n",
    "        pred = linear_regression(train_X)\n",
    "        loss = mean_square(pred, train_Y)\n",
    "        print(\"step: %i, loss: %f, W: %f, b: %f\" % (step, loss, W.numpy(), b.numpy()))"
   ]
  },
  {
   "cell_type": "code",
   "execution_count": 15,
   "metadata": {},
   "outputs": [
    {
     "data": {
      "image/png": "[encoded data removed]",
      "text/plain": [
       "<Figure size 432x288 with 1 Axes>"
      ]
     },
     "metadata": {
      "needs_background": "light"
     },
     "output_type": "display_data"
    }
   ],
   "source": [
    "plt.plot(train_X, train_Y, 'ro', label='Original data')\n",
    "plt.plot(train_X, np.array(W*train_X + b), label='Fitted line')\n",
    "plt.legend()\n",
    "plt.show()"
   ]
  },
  {
   "cell_type": "code",
   "execution_count": null,
   "metadata": {},
   "outputs": [],
   "source": []
  },
  {
   "cell_type": "code",
   "execution_count": null,
   "metadata": {},
   "outputs": [],
   "source": []
  }
 ],
 "metadata": {
  "kernelspec": {
   "display_name": "Python 3",
   "language": "python",
   "name": "python3"
  },
  "language_info": {
   "codemirror_mode": {
    "name": "ipython",
    "version": 3
   },
   "file_extension": ".py",
   "mimetype": "text/x-python",
   "name": "python",
   "nbconvert_exporter": "python",
   "pygments_lexer": "ipython3",
   "version": "3.7.4"
  }
 },
 "nbformat": 4,
 "nbformat_minor": 2
}
