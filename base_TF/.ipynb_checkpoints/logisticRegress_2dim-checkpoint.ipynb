{
 "cells": [
  {
   "cell_type": "code",
   "execution_count": 2,
   "metadata": {},
   "outputs": [],
   "source": [
    "# 线性回归拟合二维数据，二维数据的基本关系约为 y = 2x \n",
    "# 主要由四个步骤：准备数据——>搭建模型——>迭代训练——>使用模型"
   ]
  },
  {
   "cell_type": "code",
   "execution_count": 12,
   "metadata": {},
   "outputs": [
    {
     "data": {
      "image/png": "[encoded data removed]",
      "text/plain": [
       "<Figure size 432x288 with 1 Axes>"
      ]
     },
     "metadata": {
      "needs_background": "light"
     },
     "output_type": "display_data"
    }
   ],
   "source": [
    "# 生成含噪声的数据\n",
    "import tensorflow as tf\n",
    "import numpy as np\n",
    "import matplotlib.pyplot as plt\n",
    "\n",
    "train_X = np.linspace(-1, 1, 100)\n",
    "train_Y = 2 * train_X + np.random.randn(*train_X.shape)   # 加入噪声\n",
    "\n",
    "# 显示模拟数据\n",
    "plt.plot(train_X, train_Y, 'ro', label='Original data')\n",
    "plt.legend()\n",
    "plt.show()"
   ]
  },
  {
   "cell_type": "code",
   "execution_count": 13,
   "metadata": {},
   "outputs": [],
   "source": [
    "# 搭建模型：正向\n",
    "# 模型参数：随机初始化权重和偏置\n",
    "W = tf.Variable(np.random.randn(), name=\"weight\")   \n",
    "b = tf.Variable(np.random.randn(), name=\"bias\")\n",
    "\n",
    "# 线性回归函数\n",
    "def linear_regression(x):\n",
    "    return W*x + b\n",
    "\n",
    "\n",
    "# 搭建模型：反向\n",
    "# 损失函数\n",
    "def mean_square(y_pred, y_true):\n",
    "    return tf.reduce_mean(tf.square(y_pred-y_true))\n",
    "\n",
    "# 优化器采用随机梯度下降(SGD)\n",
    "learning_rate = 0.01  # 学习率\n",
    "optimizer = tf.keras.optimizers.SGD(learning_rate)"
   ]
  },
  {
   "cell_type": "code",
   "execution_count": 16,
   "metadata": {},
   "outputs": [],
   "source": [
    "# 计算梯度，更新参数\n",
    "def run_optimization():   \n",
    "    # tf.GradientTape()梯度带，可以查看每一次epoch的参数值\n",
    "    with tf.GradientTape() as tape:\n",
    "        pred = linear_regression(train_X)\n",
    "        loss = mean_square(pred, train_Y)\n",
    "    # 计算梯度\n",
    "    gradients = tape.gradient(loss, [W, b])\n",
    "    # 更新W，b\n",
    "    optimizer.apply_gradients(zip(gradients, [W, b]))\n",
    "\n",
    "    \n",
    "# 开始训练\n",
    "training_steps = 100  # 训练次数\n",
    "display_step = 2  # 训练2次输出一次\n",
    "\n",
    "for step in range(1, training_steps+1):\n",
    "    run_optimization()\n",
    "    if step % display_step == 0:\n",
    "        pred = linear_regression(train_X)\n",
    "        loss = mean_square(pred, train_Y)\n",
    "        print(\"step: %i, loss: %f, W: %f, b: %f\" % (step, loss, W.numpy(), b.numpy()))"
   ]
  },
  {
   "cell_type": "code",
   "execution_count": 17,
   "metadata": {},
   "outputs": [],
   "source": [
    "plt.plot(train_X, train_Y, 'ro', label='Original data')\n",
    "plt.plot(train_X, np.array(W*train_X + b), label='Fitted line')\n",
    "plt.legend()\n",
    "plt.show()"
   ]
  }
 ],
 "metadata": {
  "file_extension": ".py",
  "kernelspec": {
   "display_name": "Python 3",
   "language": "python",
   "name": "python3"
  },
  "language_info": {
   "codemirror_mode": {
    "name": "ipython",
    "version": 3
   },
   "file_extension": ".py",
   "mimetype": "text/x-python",
   "name": "python",
   "nbconvert_exporter": "python",
   "pygments_lexer": "ipython3",
   "version": "3.7.4"
  },
  "mimetype": "text/x-python",
  "name": "python",
  "npconvert_exporter": "python",
  "pygments_lexer": "ipython3",
  "version": 3
 },
 "nbformat": 4,
 "nbformat_minor": 2
}
