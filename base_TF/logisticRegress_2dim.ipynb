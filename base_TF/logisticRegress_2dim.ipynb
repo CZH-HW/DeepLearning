{
 "cells": [
  {
   "cell_type": "code",
   "execution_count": 2,
   "metadata": {},
   "outputs": [],
   "source": [
    "# 线性回归拟合二维数据，二维数据的基本关系约为 y = 2x \n",
    "# 主要由四个步骤：准备数据——>搭建模型——>迭代训练——>使用模型"
   ]
  },
  {
   "cell_type": "code",
   "execution_count": 12,
   "metadata": {},
   "outputs": [
    {
     "data": {
      "image/png": "[encoded data removed]",
      "text/plain": [
       "<Figure size 432x288 with 1 Axes>"
      ]
     },
     "metadata": {
      "needs_background": "light"
     },
     "output_type": "display_data"
    }
   ],
   "source": [
    "# 生成含噪声的数据\n",
    "import tensorflow as tf\n",
    "import numpy as np\n",
    "import matplotlib.pyplot as plt\n",
    "\n",
    "train_X = np.linspace(-1, 1, 100)\n",
    "train_Y = 2 * train_X + np.random.randn(*train_X.shape)   # 加入噪声\n",
    "\n",
    "# 显示模拟数据\n",
    "plt.plot(train_X, train_Y, 'ro', label='Original data')\n",
    "plt.legend()\n",
    "plt.show()"
   ]
  },
  {
   "cell_type": "code",
   "execution_count": 13,
   "metadata": {},
   "outputs": [],
   "source": [
    "# 搭建模型：正向\n",
    "# 模型参数：随机初始化权重和偏置\n",
    "W = tf.Variable(np.random.randn(), name=\"weight\")   \n",
    "b = tf.Variable(np.random.randn(), name=\"bias\")\n",
    "\n",
    "# 线性回归函数\n",
    "def linear_regression(x):\n",
    "    return W*x + b\n",
    "\n",
    "\n",
    "# 搭建模型：反向\n",
    "# 损失函数\n",
    "def mean_square(y_pred, y_true):\n",
    "    return tf.reduce_mean(tf.square(y_pred-y_true))\n",
    "\n",
    "# 优化器采用随机梯度下降(SGD)\n",
    "learning_rate = 0.01  # 学习率\n",
    "optimizer = tf.optimizers.SGD(learning_rate)"
   ]
  },
  {
   "cell_type": "code",
   "execution_count": 16,
   "metadata": {},
   "outputs": [
    {
     "name": "stdout",
     "output_type": "stream",
     "text": [
      "step: 2, loss: 1.458735, W: 0.820374, b: -0.050622\n",
      "step: 4, loss: 1.446217, W: 0.835720, b: -0.046645\n",
      "step: 6, loss: 1.434075, W: 0.850858, b: -0.042824\n",
      "step: 8, loss: 1.422298, W: 0.865790, b: -0.039156\n",
      "step: 10, loss: 1.410871, W: 0.880521, b: -0.035632\n",
      "step: 12, loss: 1.399783, W: 0.895051, b: -0.032248\n",
      "step: 14, loss: 1.389022, W: 0.909385, b: -0.028998\n",
      "step: 16, loss: 1.378578, W: 0.923524, b: -0.025877\n",
      "step: 18, loss: 1.368440, W: 0.937471, b: -0.022879\n",
      "step: 20, loss: 1.358597, W: 0.951230, b: -0.020000\n",
      "step: 22, loss: 1.349040, W: 0.964802, b: -0.017235\n",
      "step: 24, loss: 1.339759, W: 0.978190, b: -0.014580\n",
      "step: 26, loss: 1.330746, W: 0.991396, b: -0.012029\n",
      "step: 28, loss: 1.321992, W: 1.004423, b: -0.009580\n",
      "step: 30, loss: 1.313489, W: 1.017274, b: -0.007228\n",
      "step: 32, loss: 1.305229, W: 1.029951, b: -0.004968\n",
      "step: 34, loss: 1.297204, W: 1.042456, b: -0.002799\n",
      "step: 36, loss: 1.289407, W: 1.054791, b: -0.000715\n",
      "step: 38, loss: 1.281831, W: 1.066959, b: 0.001286\n",
      "step: 40, loss: 1.274469, W: 1.078962, b: 0.003208\n",
      "step: 42, loss: 1.267314, W: 1.090802, b: 0.005054\n",
      "step: 44, loss: 1.260361, W: 1.102482, b: 0.006827\n",
      "step: 46, loss: 1.253603, W: 1.114003, b: 0.008530\n",
      "step: 48, loss: 1.247033, W: 1.125368, b: 0.010165\n",
      "step: 50, loss: 1.240648, W: 1.136580, b: 0.011735\n",
      "step: 52, loss: 1.234441, W: 1.147639, b: 0.013244\n",
      "step: 54, loss: 1.228407, W: 1.158548, b: 0.014692\n",
      "step: 56, loss: 1.222540, W: 1.169310, b: 0.016083\n",
      "step: 58, loss: 1.216836, W: 1.179925, b: 0.017419\n",
      "step: 60, loss: 1.211290, W: 1.190397, b: 0.018703\n",
      "step: 62, loss: 1.205898, W: 1.200727, b: 0.019935\n",
      "step: 64, loss: 1.200655, W: 1.210916, b: 0.021119\n",
      "step: 66, loss: 1.195557, W: 1.220968, b: 0.022255\n",
      "step: 68, loss: 1.190599, W: 1.230883, b: 0.023347\n",
      "step: 70, loss: 1.185777, W: 1.240664, b: 0.024395\n",
      "step: 72, loss: 1.181088, W: 1.250312, b: 0.025402\n",
      "step: 74, loss: 1.176528, W: 1.259830, b: 0.026369\n",
      "step: 76, loss: 1.172094, W: 1.269218, b: 0.027298\n",
      "step: 78, loss: 1.167780, W: 1.278479, b: 0.028190\n",
      "step: 80, loss: 1.163585, W: 1.287615, b: 0.029047\n",
      "step: 82, loss: 1.159505, W: 1.296626, b: 0.029869\n",
      "step: 84, loss: 1.155536, W: 1.305516, b: 0.030660\n",
      "step: 86, loss: 1.151676, W: 1.314285, b: 0.031418\n",
      "step: 88, loss: 1.147921, W: 1.322935, b: 0.032147\n",
      "step: 90, loss: 1.144268, W: 1.331468, b: 0.032847\n",
      "step: 92, loss: 1.140716, W: 1.339885, b: 0.033519\n",
      "step: 94, loss: 1.137260, W: 1.348189, b: 0.034165\n",
      "step: 96, loss: 1.133898, W: 1.356379, b: 0.034785\n",
      "step: 98, loss: 1.130627, W: 1.364459, b: 0.035381\n",
      "step: 100, loss: 1.127446, W: 1.372429, b: 0.035952\n"
     ]
    }
   ],
   "source": [
    "# 计算梯度，更新参数\n",
    "def run_optimization():   \n",
    "    # tf.GradientTape()梯度带，可以查看每一次epoch的参数值\n",
    "    with tf.GradientTape() as tape:\n",
    "        pred = linear_regression(train_X)\n",
    "        loss = mean_square(pred, train_Y)\n",
    "    # 计算梯度\n",
    "    gradients = tape.gradient(loss, [W, b])\n",
    "    # 更新W，b\n",
    "    optimizer.apply_gradients(zip(gradients, [W, b]))\n",
    "\n",
    "    \n",
    "# 开始训练\n",
    "training_steps = 100  # 训练次数\n",
    "display_step = 2  # 训练2次输出一次\n",
    "\n",
    "for step in range(1, training_steps+1):\n",
    "    run_optimization()\n",
    "    if step % display_step == 0:\n",
    "        pred = linear_regression(train_X)\n",
    "        loss = mean_square(pred, train_Y)\n",
    "        print(\"step: %i, loss: %f, W: %f, b: %f\" % (step, loss, W.numpy(), b.numpy()))"
   ]
  },
  {
   "cell_type": "code",
   "execution_count": 17,
   "metadata": {},
   "outputs": [
    {
     "data": {
      "image/png": "[encoded data removed]",
      "text/plain": [
       "<Figure size 432x288 with 1 Axes>"
      ]
     },
     "metadata": {
      "needs_background": "light"
     },
     "output_type": "display_data"
    }
   ],
   "source": [
    "plt.plot(train_X, train_Y, 'ro', label='Original data')\n",
    "plt.plot(train_X, np.array(W*train_X + b), label='Fitted line')\n",
    "plt.legend()\n",
    "plt.show()"
   ]
  }
 ],
 "metadata": {
  "kernelspec": {
   "display_name": "Python 3",
   "language": "python",
   "name": "python3"
  },
  "language_info": {
   "codemirror_mode": {
    "name": "ipython",
    "version": 3
   },
   "file_extension": ".py",
   "mimetype": "text/x-python",
   "name": "python",
   "nbconvert_exporter": "python",
   "pygments_lexer": "ipython3",
   "version": "3.7.4"
  }
 },
 "nbformat": 4,
 "nbformat_minor": 2
}
