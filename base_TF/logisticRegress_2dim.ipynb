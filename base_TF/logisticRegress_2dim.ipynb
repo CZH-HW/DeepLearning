{
 "cells": [
  {
   "cell_type": "code",
   "execution_count": 6,
   "metadata": {},
   "outputs": [],
   "source": [
    "# 线性回归拟合二维数据，二维数据的基本关系约为 y = 2x \n",
    "# 主要由四个步骤：准备数据——>搭建模型——>迭代训练——>使用模型"
   ]
  },
  {
   "cell_type": "code",
   "execution_count": 7,
   "metadata": {},
   "outputs": [
    {
     "data": {
      "image/png": "[encoded data removed]",
      "text/plain": [
       "<Figure size 432x288 with 1 Axes>"
      ]
     },
     "metadata": {
      "needs_background": "light"
     },
     "output_type": "display_data"
    }
   ],
   "source": [
    "# 生成含噪声的数据\n",
    "import tensorflow as tf\n",
    "import numpy as np\n",
    "import matplotlib.pyplot as plt\n",
    "\n",
    "train_X = np.linspace(-1, 1, 100)\n",
    "train_Y = 2 * train_X + np.random.randn(*train_X.shape)   # 加入噪声\n",
    "\n",
    "# 显示模拟数据\n",
    "plt.plot(train_X, train_Y, 'ro', label='Original data')\n",
    "plt.legend()\n",
    "plt.show()"
   ]
  },
  {
   "cell_type": "code",
   "execution_count": 8,
   "metadata": {},
   "outputs": [],
   "source": [
    "# 搭建模型：正向\n",
    "# 模型参数：随机初始化权重和偏置\n",
    "W = tf.Variable(np.random.randn(), name=\"weight\")   \n",
    "b = tf.Variable(np.random.randn(), name=\"bias\")\n",
    "\n",
    "# 线性回归函数\n",
    "def linear_regression(x):\n",
    "    return W*x + b\n",
    "\n",
    "\n",
    "# 搭建模型：反向\n",
    "# 损失函数\n",
    "def mean_square(y_pred, y_true):\n",
    "    return tf.reduce_mean(tf.square(y_pred-y_true))\n",
    "\n",
    "# 优化器采用随机梯度下降(SGD)\n",
    "learning_rate = 0.01  # 学习率\n",
    "optimizer = tf.keras.optimizers.SGD(learning_rate)"
   ]
  },
  {
   "cell_type": "code",
   "execution_count": 10,
   "metadata": {
    "scrolled": true
   },
   "outputs": [
    {
     "name": "stdout",
     "output_type": "stream",
     "text": [
      "step: 2, loss: 1.105413, W: 1.406968, b: 0.019021\n",
      "step: 4, loss: 1.104385, W: 1.411231, b: 0.017452\n",
      "step: 6, loss: 1.103392, W: 1.415437, b: 0.015945\n",
      "step: 8, loss: 1.102430, W: 1.419585, b: 0.014498\n",
      "step: 10, loss: 1.101501, W: 1.423677, b: 0.013108\n",
      "step: 12, loss: 1.100600, W: 1.427714, b: 0.011773\n",
      "step: 14, loss: 1.099729, W: 1.431696, b: 0.010492\n",
      "step: 16, loss: 1.098885, W: 1.435624, b: 0.009261\n",
      "step: 18, loss: 1.098067, W: 1.439499, b: 0.008078\n",
      "step: 20, loss: 1.097276, W: 1.443322, b: 0.006943\n",
      "step: 22, loss: 1.096508, W: 1.447092, b: 0.005852\n",
      "step: 24, loss: 1.095765, W: 1.450812, b: 0.004805\n",
      "step: 26, loss: 1.095044, W: 1.454480, b: 0.003799\n",
      "step: 28, loss: 1.094345, W: 1.458100, b: 0.002833\n",
      "step: 30, loss: 1.093667, W: 1.461670, b: 0.001905\n",
      "step: 32, loss: 1.093010, W: 1.465191, b: 0.001014\n",
      "step: 34, loss: 1.092372, W: 1.468665, b: 0.000158\n",
      "step: 36, loss: 1.091753, W: 1.472092, b: -0.000664\n",
      "step: 38, loss: 1.091153, W: 1.475473, b: -0.001453\n",
      "step: 40, loss: 1.090571, W: 1.478807, b: -0.002211\n",
      "step: 42, loss: 1.090005, W: 1.482097, b: -0.002939\n",
      "step: 44, loss: 1.089456, W: 1.485342, b: -0.003639\n",
      "step: 46, loss: 1.088924, W: 1.488542, b: -0.004310\n",
      "step: 48, loss: 1.088406, W: 1.491700, b: -0.004955\n",
      "step: 50, loss: 1.087904, W: 1.494814, b: -0.005574\n",
      "step: 52, loss: 1.087416, W: 1.497887, b: -0.006169\n",
      "step: 54, loss: 1.086942, W: 1.500918, b: -0.006741\n",
      "step: 56, loss: 1.086482, W: 1.503907, b: -0.007289\n",
      "step: 58, loss: 1.086035, W: 1.506856, b: -0.007816\n",
      "step: 60, loss: 1.085600, W: 1.509766, b: -0.008322\n",
      "step: 62, loss: 1.085178, W: 1.512635, b: -0.008809\n",
      "step: 64, loss: 1.084768, W: 1.515466, b: -0.009275\n",
      "step: 66, loss: 1.084369, W: 1.518259, b: -0.009724\n",
      "step: 68, loss: 1.083982, W: 1.521013, b: -0.010154\n",
      "step: 70, loss: 1.083606, W: 1.523730, b: -0.010568\n",
      "step: 72, loss: 1.083240, W: 1.526411, b: -0.010965\n",
      "step: 74, loss: 1.082884, W: 1.529055, b: -0.011346\n",
      "step: 76, loss: 1.082539, W: 1.531663, b: -0.011713\n",
      "step: 78, loss: 1.082203, W: 1.534236, b: -0.012064\n",
      "step: 80, loss: 1.081876, W: 1.536774, b: -0.012402\n",
      "step: 82, loss: 1.081559, W: 1.539278, b: -0.012727\n",
      "step: 84, loss: 1.081250, W: 1.541747, b: -0.013039\n",
      "step: 86, loss: 1.080950, W: 1.544183, b: -0.013338\n",
      "step: 88, loss: 1.080658, W: 1.546587, b: -0.013625\n",
      "step: 90, loss: 1.080374, W: 1.548957, b: -0.013901\n",
      "step: 92, loss: 1.080098, W: 1.551296, b: -0.014166\n",
      "step: 94, loss: 1.079830, W: 1.553602, b: -0.014421\n",
      "step: 96, loss: 1.079569, W: 1.555878, b: -0.014666\n",
      "step: 98, loss: 1.079315, W: 1.558122, b: -0.014901\n",
      "step: 100, loss: 1.079068, W: 1.560337, b: -0.015126\n"
     ]
    }
   ],
   "source": [
    "# 计算梯度，更新参数\n",
    "def run_optimization():   \n",
    "    # tf.GradientTape()梯度带，可以查看每一次epoch的参数值\n",
    "    with tf.GradientTape() as tape:\n",
    "        pred = linear_regression(train_X)\n",
    "        loss = mean_square(pred, train_Y)\n",
    "    # 计算梯度\n",
    "    gradients = tape.gradient(loss, [W, b])\n",
    "    # 更新W，b\n",
    "    optimizer.apply_gradients(zip(gradients, [W, b]))\n",
    "\n",
    "    \n",
    "# 开始训练\n",
    "training_steps = 100  # 训练次数\n",
    "display_step = 2  # 训练2次输出一次\n",
    "\n",
    "for step in range(1, training_steps+1):\n",
    "    run_optimization()\n",
    "    if step % display_step == 0:\n",
    "        pred = linear_regression(train_X)\n",
    "        loss = mean_square(pred, train_Y)\n",
    "        print(\"step: %i, loss: %f, W: %f, b: %f\" % (step, loss, W.numpy(), b.numpy()))"
   ]
  },
  {
   "cell_type": "code",
   "execution_count": 11,
   "metadata": {
    "scrolled": true
   },
   "outputs": [
    {
     "data": {
      "image/png": "[encoded data removed]",
      "text/plain": [
       "<Figure size 432x288 with 1 Axes>"
      ]
     },
     "metadata": {
      "needs_background": "light"
     },
     "output_type": "display_data"
    }
   ],
   "source": [
    "plt.plot(train_X, train_Y, 'ro', label='Original data')\n",
    "plt.plot(train_X, np.array(W*train_X + b), label='Fitted line')\n",
    "plt.legend()\n",
    "plt.show()"
   ]
  }
 ],
 "metadata": {
  "file_extension": ".py",
  "kernelspec": {
   "display_name": "Python 3",
   "language": "python",
   "name": "python3"
  },
  "language_info": {
   "codemirror_mode": {
    "name": "ipython",
    "version": 3
   },
   "file_extension": ".py",
   "mimetype": "text/x-python",
   "name": "python",
   "nbconvert_exporter": "python",
   "pygments_lexer": "ipython3",
   "version": "3.7.4"
  },
  "mimetype": "text/x-python",
  "name": "python",
  "npconvert_exporter": "python",
  "pygments_lexer": "ipython3",
  "version": 3
 },
 "nbformat": 4,
 "nbformat_minor": 2
}
